{
 "cells": [
  {
   "cell_type": "code",
   "execution_count": 1,
   "metadata": {
    "executionInfo": {
     "elapsed": 11459,
     "status": "ok",
     "timestamp": 1749625412789,
     "user": {
      "displayName": "Seona Ann Tom",
      "userId": "03566573536686444703"
     },
     "user_tz": -330
    },
    "id": "Tu1Fc7SsgQ5S"
   },
   "outputs": [],
   "source": [
    "import tensorflow as tf\n",
    "import tensorflow_datasets as tfds\n",
    "from tensorflow.keras.preprocessing.sequence import pad_sequences\n",
    "from tensorflow.keras.models import Sequential\n",
    "from tensorflow.keras.layers import Embedding, GlobalAveragePooling1D, Dense\n",
    "import numpy as np\n",
    "import matplotlib.pyplot as plt\n"
   ]
  },
  {
   "cell_type": "code",
   "execution_count": 2,
   "metadata": {
    "colab": {
     "base_uri": "https://localhost:8080/",
     "height": 168,
     "referenced_widgets": [
      "f70a0e9e61da46bfbf645f11d514503e",
      "81b86362dd0a4e34ac20983affeafd5b",
      "dbed98f0ff4d4ea1876b3216bbe61845",
      "815645e16ae349a09a2341747ee074ec",
      "5eb70743a78447dc963642e4e4aceb5b",
      "817fd2bbbbe543c59cc14e40e0a05651",
      "758413354c284abd940193a58990e9d3",
      "56967463597b4435bc78fafb7132f2bf",
      "f299b6be8191422596caddfd1592c78b",
      "9416f949d6894cacbf579498d1514fae",
      "d9e05f59bdca448894d4f6c0b382e2e0",
      "db5a9ad1cd7242ada44ce2ae6fa6f9b0",
      "6bc147a97ce948dcbe64ee41f6cbe082",
      "a3f7395a464d4f9ca55e152d4ec0feae",
      "e501b2e5e1ed4ba0a99d4a8fb98aec7b",
      "65a8a366bcde4f7d9c83001092830beb",
      "3bca80a4aab64692b3dcce9795089113",
      "96a7576e69d0424ebf79e476d454de49",
      "b155c236add342b3af5eb0ed2bc7ceec",
      "50c3435a0de04c2597ace13e63b0364f",
      "82afbe0a5c404ccb9ce656f6d900ff00",
      "6b5b9a3a5b5146abad6b9c5b13b4ebae",
      "ee6d79a900f24d9ea8fc251ba87ee8c6",
      "897dc68814c8488d889b3694ce62582f",
      "7ede8ed43534419c81d4a460a1fa32b5",
      "4505cec9113f4a57bf2c525b2978135a",
      "1ddf71e876d340fa85e43eb8ea39a9d1",
      "261bfabb8ca848618e92941bc19cbb14",
      "e51a0c9868eb4984b8bde896de653460",
      "913b56ef5e234ea48c75f997bed19f90",
      "8856184d55de494fa3fb3501db70b995",
      "5ca38a746c4e49a281199aaf3607de26",
      "0a0672f25e9b4a198c64a1efca6b33c6",
      "6fb2a349952141c382f70073858b1533",
      "c7485251f7404620a115f0c8f7436ffd",
      "a9991712abc342c58bfce9fd8b0204e4",
      "137a3d5ce34c4ca7a40bde90593a2fe0",
      "f116d4af24814baeb318612e9842595e",
      "f39cc728648649ffa0b1b4d234b57bd8",
      "1faadc4b07dc4f44bb461dea38d56aaf",
      "d39e5160b00c43f98b8a5f80442801b2",
      "6561975029af41e8be1c5405d7454a4b",
      "2eee2ae85245433e9c20f049e4ed0b5f",
      "34805ff6dd944252891d6c9f8805012e",
      "28637c1625ab460085c96369cab4adc7",
      "0b7c499eb64446b5a58c6f7e51d82d28",
      "09529577728d45d4b3bbd13f0c12b297",
      "fd6bc1c476b34e7abb744a00cad9ac12",
      "f06261008cd4452eb81c6becf0084ea8",
      "84d8da9b00d74221a1a1179459120915",
      "707d548f0041482dbadaa4dd8acd10e7",
      "bf8ccaba7442406fbab15ef2865c3aa9",
      "8ca0550b029f45f68335021de2659f14",
      "fa3ffdb2d678403499613158166b47e4",
      "e8e9bbb33bf640a2856adc9b8352dca1",
      "033efb48f2cc4b358cde602a93606b85",
      "62d96daf4b28411b9503891f11ed2e24",
      "b0192eaf7cbf4608bfe36e5d0e40509c",
      "a295f55a75b848fd857ee526d380fdad",
      "b0325869e2f445eaad19482e88d4759b",
      "1af01d06e6fe4e0983bb95b8cf8cff04",
      "cb2765ceb78d460b894e0b3e6a338ba9",
      "8c3334899d0d4357b73d1ab3a70aa222",
      "969fde3e19f2446fa9b70a652d2b87a8",
      "49c5ed968ea34fbcb05f853884a804bb",
      "9c71d1657d274b15b7203f08b9da2b49",
      "f7da3dcb896d46d1b3aa21b9d00350ad",
      "ded97d8e4c7741e0896bf4cb48fd4e27",
      "e70723a167ff4ed7bbc2f7e42190fc99",
      "177e8c34a002414c8b889be31d960637",
      "27813b79bbb2453d8ddf9f4df156f5c7",
      "b9da3d1c38984679ba9f31b6daa6e0cf",
      "08dc7a7df43d4cd48e2bb8c393ba0a2e",
      "3a9d6847f1f741e682063d12f3b4707f",
      "457abbac6c614f63b064a5e9f61bdf40",
      "0a630b9a11814519889ce061a9b2f73f",
      "1fd0b2833cb14017993833c6c65e50a8",
      "0aa68031412748ffa23892b322cf69c1",
      "4faadc8de08a4f6694aa7e4aebb8a4ad",
      "a1d9d46dccc8442c9802190080c41cc8",
      "ce25e7e3e1784389a7d8457942a93089",
      "04417b26f4134460927d6fceb2959cae",
      "3114edc894774daf93fec1fa8af9be0f",
      "ac6586912ee544de81380706da941145",
      "3e52cd340c79413e862134d7d990c0b5",
      "d88444c97fb3476097befd33cb851b8c",
      "d7c82f0852a1444696a43f38334ecf6a",
      "850d9e2f8fa64e60bd392a42daf99dfc",
      "0f49a885463e4bf4be79a8c3204a53f0",
      "564a9074520240429d320d145748054a",
      "5f7944058f7845ac9045a22f291f3541",
      "5c1fa146f8264e35bafa6be9c6330804",
      "824cf94c46c940d7be69a47863571642",
      "8dbbf3187b68425c86d561043260c1c2",
      "68f8cb93e4084018a776f48cab9756e6",
      "238993894bae408b9427e200900a5930",
      "f0ddd7b626244b64940d04d78dd2021e",
      "92da336c449c4b32aa5371d80d481264",
      "1adeb6c9e6c54e8c953e6023d6b66a47"
     ]
    },
    "executionInfo": {
     "elapsed": 37074,
     "status": "ok",
     "timestamp": 1749625575520,
     "user": {
      "displayName": "Seona Ann Tom",
      "userId": "03566573536686444703"
     },
     "user_tz": -330
    },
    "id": "EGSoeaTLgZco",
    "outputId": "7bd652a2-099b-40cb-87d5-b42218102949"
   },
   "outputs": [
    {
     "name": "stderr",
     "output_type": "stream",
     "text": [
      "WARNING:absl:Variant folder /root/tensorflow_datasets/imdb_reviews/plain_text/1.0.0 has no dataset_info.json\n"
     ]
    },
    {
     "name": "stdout",
     "output_type": "stream",
     "text": [
      "Downloading and preparing dataset Unknown size (download: Unknown size, generated: Unknown size, total: Unknown size) to /root/tensorflow_datasets/imdb_reviews/plain_text/1.0.0...\n"
     ]
    },
    {
     "data": {
      "application/vnd.jupyter.widget-view+json": {
       "model_id": "f70a0e9e61da46bfbf645f11d514503e",
       "version_major": 2,
       "version_minor": 0
      },
      "text/plain": [
       "Dl Completed...: 0 url [00:00, ? url/s]"
      ]
     },
     "metadata": {},
     "output_type": "display_data"
    },
    {
     "data": {
      "application/vnd.jupyter.widget-view+json": {
       "model_id": "db5a9ad1cd7242ada44ce2ae6fa6f9b0",
       "version_major": 2,
       "version_minor": 0
      },
      "text/plain": [
       "Dl Size...: 0 MiB [00:00, ? MiB/s]"
      ]
     },
     "metadata": {},
     "output_type": "display_data"
    },
    {
     "data": {
      "application/vnd.jupyter.widget-view+json": {
       "model_id": "ee6d79a900f24d9ea8fc251ba87ee8c6",
       "version_major": 2,
       "version_minor": 0
      },
      "text/plain": [
       "Generating splits...:   0%|          | 0/3 [00:00<?, ? splits/s]"
      ]
     },
     "metadata": {},
     "output_type": "display_data"
    },
    {
     "data": {
      "application/vnd.jupyter.widget-view+json": {
       "model_id": "6fb2a349952141c382f70073858b1533",
       "version_major": 2,
       "version_minor": 0
      },
      "text/plain": [
       "Generating train examples...: 0 examples [00:00, ? examples/s]"
      ]
     },
     "metadata": {},
     "output_type": "display_data"
    },
    {
     "data": {
      "application/vnd.jupyter.widget-view+json": {
       "model_id": "28637c1625ab460085c96369cab4adc7",
       "version_major": 2,
       "version_minor": 0
      },
      "text/plain": [
       "Shuffling /root/tensorflow_datasets/imdb_reviews/plain_text/incomplete.X4I9ZB_1.0.0/imdb_reviews-train.tfrecor…"
      ]
     },
     "metadata": {},
     "output_type": "display_data"
    },
    {
     "data": {
      "application/vnd.jupyter.widget-view+json": {
       "model_id": "033efb48f2cc4b358cde602a93606b85",
       "version_major": 2,
       "version_minor": 0
      },
      "text/plain": [
       "Generating test examples...: 0 examples [00:00, ? examples/s]"
      ]
     },
     "metadata": {},
     "output_type": "display_data"
    },
    {
     "data": {
      "application/vnd.jupyter.widget-view+json": {
       "model_id": "f7da3dcb896d46d1b3aa21b9d00350ad",
       "version_major": 2,
       "version_minor": 0
      },
      "text/plain": [
       "Shuffling /root/tensorflow_datasets/imdb_reviews/plain_text/incomplete.X4I9ZB_1.0.0/imdb_reviews-test.tfrecord…"
      ]
     },
     "metadata": {},
     "output_type": "display_data"
    },
    {
     "data": {
      "application/vnd.jupyter.widget-view+json": {
       "model_id": "0aa68031412748ffa23892b322cf69c1",
       "version_major": 2,
       "version_minor": 0
      },
      "text/plain": [
       "Generating unsupervised examples...: 0 examples [00:00, ? examples/s]"
      ]
     },
     "metadata": {},
     "output_type": "display_data"
    },
    {
     "data": {
      "application/vnd.jupyter.widget-view+json": {
       "model_id": "0f49a885463e4bf4be79a8c3204a53f0",
       "version_major": 2,
       "version_minor": 0
      },
      "text/plain": [
       "Shuffling /root/tensorflow_datasets/imdb_reviews/plain_text/incomplete.X4I9ZB_1.0.0/imdb_reviews-unsupervised.…"
      ]
     },
     "metadata": {},
     "output_type": "display_data"
    },
    {
     "name": "stdout",
     "output_type": "stream",
     "text": [
      "Dataset imdb_reviews downloaded and prepared to /root/tensorflow_datasets/imdb_reviews/plain_text/1.0.0. Subsequent calls will reuse this data.\n",
      "Total training samples: 25000\n",
      "Total test samples: 25000\n"
     ]
    }
   ],
   "source": [
    "(train_data, test_data), info = tfds.load(\n",
    "    'imdb_reviews',\n",
    "    split=['train', 'test'],\n",
    "    as_supervised=True,\n",
    "    with_info=True\n",
    ")\n",
    "\n",
    "print(\"Total training samples:\", info.splits['train'].num_examples)\n",
    "print(\"Total test samples:\", info.splits['test'].num_examples)\n"
   ]
  },
  {
   "cell_type": "code",
   "execution_count": 3,
   "metadata": {
    "executionInfo": {
     "elapsed": 31470,
     "status": "ok",
     "timestamp": 1749625642119,
     "user": {
      "displayName": "Seona Ann Tom",
      "userId": "03566573536686444703"
     },
     "user_tz": -330
    },
    "id": "UqzCSD7iga9Z"
   },
   "outputs": [],
   "source": [
    "# Extract raw texts and labels into lists\n",
    "train_texts = []\n",
    "train_labels = []\n",
    "for text, label in train_data:\n",
    "    train_texts.append(text.numpy().decode('utf-8'))\n",
    "    train_labels.append(label.numpy())\n",
    "\n",
    "test_texts = []\n",
    "test_labels = []\n",
    "for text, label in test_data:\n",
    "    test_texts.append(text.numpy().decode('utf-8'))\n",
    "    test_labels.append(label.numpy())\n",
    "\n"
   ]
  },
  {
   "cell_type": "code",
   "execution_count": 4,
   "metadata": {
    "executionInfo": {
     "elapsed": 4440,
     "status": "ok",
     "timestamp": 1749625674141,
     "user": {
      "displayName": "Seona Ann Tom",
      "userId": "03566573536686444703"
     },
     "user_tz": -330
    },
    "id": "YW4-AAx4ga5-"
   },
   "outputs": [],
   "source": [
    "# Tokenize the texts\n",
    "tokenizer = tf.keras.preprocessing.text.Tokenizer(num_words=10000, oov_token=\"<OOV>\")\n",
    "tokenizer.fit_on_texts(train_texts)\n",
    "\n"
   ]
  },
  {
   "cell_type": "code",
   "execution_count": 5,
   "metadata": {
    "executionInfo": {
     "elapsed": 6266,
     "status": "ok",
     "timestamp": 1749625682625,
     "user": {
      "displayName": "Seona Ann Tom",
      "userId": "03566573536686444703"
     },
     "user_tz": -330
    },
    "id": "MwwWXofoga3L"
   },
   "outputs": [],
   "source": [
    "# Convert to sequences\n",
    "train_sequences = tokenizer.texts_to_sequences(train_texts)\n",
    "test_sequences = tokenizer.texts_to_sequences(test_texts)\n",
    "\n"
   ]
  },
  {
   "cell_type": "code",
   "execution_count": 6,
   "metadata": {
    "executionInfo": {
     "elapsed": 508,
     "status": "ok",
     "timestamp": 1749625684723,
     "user": {
      "displayName": "Seona Ann Tom",
      "userId": "03566573536686444703"
     },
     "user_tz": -330
    },
    "id": "R7EqJdftga0k"
   },
   "outputs": [],
   "source": [
    "# Pad sequences\n",
    "max_length = 250\n",
    "train_padded = pad_sequences(train_sequences, maxlen=max_length, padding='post', truncating='post')\n",
    "test_padded = pad_sequences(test_sequences, maxlen=max_length, padding='post', truncating='post')\n",
    "\n"
   ]
  },
  {
   "cell_type": "code",
   "execution_count": 7,
   "metadata": {
    "executionInfo": {
     "elapsed": 20,
     "status": "ok",
     "timestamp": 1749625688095,
     "user": {
      "displayName": "Seona Ann Tom",
      "userId": "03566573536686444703"
     },
     "user_tz": -330
    },
    "id": "BztwZlkCgayI"
   },
   "outputs": [],
   "source": [
    "# Convert labels to numpy arrays\n",
    "train_labels = np.array(train_labels)\n",
    "test_labels = np.array(test_labels)\n"
   ]
  },
  {
   "cell_type": "code",
   "execution_count": 8,
   "metadata": {
    "colab": {
     "base_uri": "https://localhost:8080/",
     "height": 308
    },
    "executionInfo": {
     "elapsed": 26,
     "status": "ok",
     "timestamp": 1749625690721,
     "user": {
      "displayName": "Seona Ann Tom",
      "userId": "03566573536686444703"
     },
     "user_tz": -330
    },
    "id": "VvOCaU09gavr",
    "outputId": "72101147-9d37-4d66-c977-cb75dd7048f5"
   },
   "outputs": [
    {
     "name": "stderr",
     "output_type": "stream",
     "text": [
      "/usr/local/lib/python3.11/dist-packages/keras/src/layers/core/embedding.py:90: UserWarning: Argument `input_length` is deprecated. Just remove it.\n",
      "  warnings.warn(\n"
     ]
    },
    {
     "data": {
      "text/html": [
       "<pre style=\"white-space:pre;overflow-x:auto;line-height:normal;font-family:Menlo,'DejaVu Sans Mono',consolas,'Courier New',monospace\"><span style=\"font-weight: bold\">Model: \"sequential\"</span>\n",
       "</pre>\n"
      ],
      "text/plain": [
       "\u001b[1mModel: \"sequential\"\u001b[0m\n"
      ]
     },
     "metadata": {},
     "output_type": "display_data"
    },
    {
     "data": {
      "text/html": [
       "<pre style=\"white-space:pre;overflow-x:auto;line-height:normal;font-family:Menlo,'DejaVu Sans Mono',consolas,'Courier New',monospace\">┏━━━━━━━━━━━━━━━━━━━━━━━━━━━━━━━━━┳━━━━━━━━━━━━━━━━━━━━━━━━┳━━━━━━━━━━━━━━━┓\n",
       "┃<span style=\"font-weight: bold\"> Layer (type)                    </span>┃<span style=\"font-weight: bold\"> Output Shape           </span>┃<span style=\"font-weight: bold\">       Param # </span>┃\n",
       "┡━━━━━━━━━━━━━━━━━━━━━━━━━━━━━━━━━╇━━━━━━━━━━━━━━━━━━━━━━━━╇━━━━━━━━━━━━━━━┩\n",
       "│ embedding (<span style=\"color: #0087ff; text-decoration-color: #0087ff\">Embedding</span>)           │ ?                      │   <span style=\"color: #00af00; text-decoration-color: #00af00\">0</span> (unbuilt) │\n",
       "├─────────────────────────────────┼────────────────────────┼───────────────┤\n",
       "│ global_average_pooling1d        │ ?                      │             <span style=\"color: #00af00; text-decoration-color: #00af00\">0</span> │\n",
       "│ (<span style=\"color: #0087ff; text-decoration-color: #0087ff\">GlobalAveragePooling1D</span>)        │                        │               │\n",
       "├─────────────────────────────────┼────────────────────────┼───────────────┤\n",
       "│ dense (<span style=\"color: #0087ff; text-decoration-color: #0087ff\">Dense</span>)                   │ ?                      │   <span style=\"color: #00af00; text-decoration-color: #00af00\">0</span> (unbuilt) │\n",
       "├─────────────────────────────────┼────────────────────────┼───────────────┤\n",
       "│ dense_1 (<span style=\"color: #0087ff; text-decoration-color: #0087ff\">Dense</span>)                 │ ?                      │   <span style=\"color: #00af00; text-decoration-color: #00af00\">0</span> (unbuilt) │\n",
       "└─────────────────────────────────┴────────────────────────┴───────────────┘\n",
       "</pre>\n"
      ],
      "text/plain": [
       "┏━━━━━━━━━━━━━━━━━━━━━━━━━━━━━━━━━┳━━━━━━━━━━━━━━━━━━━━━━━━┳━━━━━━━━━━━━━━━┓\n",
       "┃\u001b[1m \u001b[0m\u001b[1mLayer (type)                   \u001b[0m\u001b[1m \u001b[0m┃\u001b[1m \u001b[0m\u001b[1mOutput Shape          \u001b[0m\u001b[1m \u001b[0m┃\u001b[1m \u001b[0m\u001b[1m      Param #\u001b[0m\u001b[1m \u001b[0m┃\n",
       "┡━━━━━━━━━━━━━━━━━━━━━━━━━━━━━━━━━╇━━━━━━━━━━━━━━━━━━━━━━━━╇━━━━━━━━━━━━━━━┩\n",
       "│ embedding (\u001b[38;5;33mEmbedding\u001b[0m)           │ ?                      │   \u001b[38;5;34m0\u001b[0m (unbuilt) │\n",
       "├─────────────────────────────────┼────────────────────────┼───────────────┤\n",
       "│ global_average_pooling1d        │ ?                      │             \u001b[38;5;34m0\u001b[0m │\n",
       "│ (\u001b[38;5;33mGlobalAveragePooling1D\u001b[0m)        │                        │               │\n",
       "├─────────────────────────────────┼────────────────────────┼───────────────┤\n",
       "│ dense (\u001b[38;5;33mDense\u001b[0m)                   │ ?                      │   \u001b[38;5;34m0\u001b[0m (unbuilt) │\n",
       "├─────────────────────────────────┼────────────────────────┼───────────────┤\n",
       "│ dense_1 (\u001b[38;5;33mDense\u001b[0m)                 │ ?                      │   \u001b[38;5;34m0\u001b[0m (unbuilt) │\n",
       "└─────────────────────────────────┴────────────────────────┴───────────────┘\n"
      ]
     },
     "metadata": {},
     "output_type": "display_data"
    },
    {
     "data": {
      "text/html": [
       "<pre style=\"white-space:pre;overflow-x:auto;line-height:normal;font-family:Menlo,'DejaVu Sans Mono',consolas,'Courier New',monospace\"><span style=\"font-weight: bold\"> Total params: </span><span style=\"color: #00af00; text-decoration-color: #00af00\">0</span> (0.00 B)\n",
       "</pre>\n"
      ],
      "text/plain": [
       "\u001b[1m Total params: \u001b[0m\u001b[38;5;34m0\u001b[0m (0.00 B)\n"
      ]
     },
     "metadata": {},
     "output_type": "display_data"
    },
    {
     "data": {
      "text/html": [
       "<pre style=\"white-space:pre;overflow-x:auto;line-height:normal;font-family:Menlo,'DejaVu Sans Mono',consolas,'Courier New',monospace\"><span style=\"font-weight: bold\"> Trainable params: </span><span style=\"color: #00af00; text-decoration-color: #00af00\">0</span> (0.00 B)\n",
       "</pre>\n"
      ],
      "text/plain": [
       "\u001b[1m Trainable params: \u001b[0m\u001b[38;5;34m0\u001b[0m (0.00 B)\n"
      ]
     },
     "metadata": {},
     "output_type": "display_data"
    },
    {
     "data": {
      "text/html": [
       "<pre style=\"white-space:pre;overflow-x:auto;line-height:normal;font-family:Menlo,'DejaVu Sans Mono',consolas,'Courier New',monospace\"><span style=\"font-weight: bold\"> Non-trainable params: </span><span style=\"color: #00af00; text-decoration-color: #00af00\">0</span> (0.00 B)\n",
       "</pre>\n"
      ],
      "text/plain": [
       "\u001b[1m Non-trainable params: \u001b[0m\u001b[38;5;34m0\u001b[0m (0.00 B)\n"
      ]
     },
     "metadata": {},
     "output_type": "display_data"
    }
   ],
   "source": [
    "model = Sequential([\n",
    "    Embedding(10000, 16, input_length=max_length),\n",
    "    GlobalAveragePooling1D(),\n",
    "    Dense(16, activation='relu'),\n",
    "    Dense(1, activation='sigmoid')  # Binary output\n",
    "])\n",
    "\n",
    "model.compile(loss='binary_crossentropy',\n",
    "              optimizer='adam',\n",
    "              metrics=['accuracy'])\n",
    "\n",
    "model.summary()\n"
   ]
  },
  {
   "cell_type": "code",
   "execution_count": 9,
   "metadata": {
    "colab": {
     "base_uri": "https://localhost:8080/"
    },
    "executionInfo": {
     "elapsed": 83566,
     "status": "ok",
     "timestamp": 1749625780199,
     "user": {
      "displayName": "Seona Ann Tom",
      "userId": "03566573536686444703"
     },
     "user_tz": -330
    },
    "id": "9K4uueW5gatX",
    "outputId": "07a7c763-d429-451c-dcae-c7f017300d78"
   },
   "outputs": [
    {
     "name": "stdout",
     "output_type": "stream",
     "text": [
      "Epoch 1/10\n",
      "782/782 - 7s - 9ms/step - accuracy: 0.7146 - loss: 0.5608 - val_accuracy: 0.7996 - val_loss: 0.4261\n",
      "Epoch 2/10\n",
      "782/782 - 9s - 11ms/step - accuracy: 0.8659 - loss: 0.3247 - val_accuracy: 0.8656 - val_loss: 0.3261\n",
      "Epoch 3/10\n",
      "782/782 - 8s - 10ms/step - accuracy: 0.8951 - loss: 0.2627 - val_accuracy: 0.8487 - val_loss: 0.3425\n",
      "Epoch 4/10\n",
      "782/782 - 9s - 11ms/step - accuracy: 0.9071 - loss: 0.2314 - val_accuracy: 0.8614 - val_loss: 0.3288\n",
      "Epoch 5/10\n",
      "782/782 - 4s - 5ms/step - accuracy: 0.9201 - loss: 0.2068 - val_accuracy: 0.8701 - val_loss: 0.3193\n",
      "Epoch 6/10\n",
      "782/782 - 6s - 8ms/step - accuracy: 0.9299 - loss: 0.1881 - val_accuracy: 0.8600 - val_loss: 0.3410\n",
      "Epoch 7/10\n",
      "782/782 - 10s - 13ms/step - accuracy: 0.9382 - loss: 0.1677 - val_accuracy: 0.8514 - val_loss: 0.3798\n",
      "Epoch 8/10\n",
      "782/782 - 10s - 13ms/step - accuracy: 0.9420 - loss: 0.1588 - val_accuracy: 0.8620 - val_loss: 0.3628\n",
      "Epoch 9/10\n",
      "782/782 - 10s - 13ms/step - accuracy: 0.9468 - loss: 0.1482 - val_accuracy: 0.8552 - val_loss: 0.3936\n",
      "Epoch 10/10\n",
      "782/782 - 11s - 13ms/step - accuracy: 0.9500 - loss: 0.1431 - val_accuracy: 0.8603 - val_loss: 0.3834\n"
     ]
    }
   ],
   "source": [
    "history = model.fit(\n",
    "    train_padded, train_labels,\n",
    "    epochs=10,\n",
    "    validation_data=(test_padded, test_labels),\n",
    "    verbose=2\n",
    ")"
   ]
  },
  {
   "cell_type": "code",
   "execution_count": 10,
   "metadata": {
    "colab": {
     "base_uri": "https://localhost:8080/",
     "height": 927
    },
    "executionInfo": {
     "elapsed": 525,
     "status": "ok",
     "timestamp": 1749625823573,
     "user": {
      "displayName": "Seona Ann Tom",
      "userId": "03566573536686444703"
     },
     "user_tz": -330
    },
    "id": "T43tEOFEgaq3",
    "outputId": "bb67f5e2-9170-4b9f-db87-58ae3f86583b"
   },
   "outputs": [
    {
     "data": {
      "image/png": "[encoded data removed]",
      "text/plain": [
       "<Figure size 640x480 with 1 Axes>"
      ]
     },
     "metadata": {},
     "output_type": "display_data"
    },
    {
     "data": {
      "image/png": "[encoded data removed]",
      "text/plain": [
       "<Figure size 640x480 with 1 Axes>"
      ]
     },
     "metadata": {},
     "output_type": "display_data"
    }
   ],
   "source": [
    "# Plot accuracy\n",
    "plt.plot(history.history['accuracy'], label='Training Accuracy')\n",
    "plt.plot(history.history['val_accuracy'], label='Validation Accuracy')\n",
    "plt.title('Accuracy over Epochs')\n",
    "plt.xlabel('Epoch')\n",
    "plt.ylabel('Accuracy')\n",
    "plt.legend()\n",
    "plt.grid()\n",
    "plt.show()\n",
    "\n",
    "# Plot loss\n",
    "plt.plot(history.history['loss'], label='Training Loss')\n",
    "plt.plot(history.history['val_loss'], label='Validation Loss')\n",
    "plt.title('Loss over Epochs')\n",
    "plt.xlabel('Epoch')\n",
    "plt.ylabel('Loss')\n",
    "plt.legend()\n",
    "plt.grid()\n",
    "plt.show()"
   ]
  },
  {
   "cell_type": "code",
   "execution_count": 11,
   "metadata": {
    "colab": {
     "base_uri": "https://localhost:8080/"
    },
    "executionInfo": {
     "elapsed": 243,
     "status": "ok",
     "timestamp": 1749625834344,
     "user": {
      "displayName": "Seona Ann Tom",
      "userId": "03566573536686444703"
     },
     "user_tz": -330
    },
    "id": "Tu1ZF_gVh23c",
    "outputId": "1c29e512-b9ec-4e86-b79e-de95fa55ee96"
   },
   "outputs": [
    {
     "name": "stdout",
     "output_type": "stream",
     "text": [
      "\u001b[1m1/1\u001b[0m \u001b[32m━━━━━━━━━━━━━━━━━━━━\u001b[0m\u001b[37m\u001b[0m \u001b[1m0s\u001b[0m 88ms/step\n",
      " Review: This movie was absolutely fantastic and emotional!\n",
      "Sentiment: Positive (0.86)\n",
      "\u001b[1m1/1\u001b[0m \u001b[32m━━━━━━━━━━━━━━━━━━━━\u001b[0m\u001b[37m\u001b[0m \u001b[1m0s\u001b[0m 34ms/step\n",
      " Review: Worst movie ever. It was so boring and predictable.\n",
      "Sentiment: Negative (0.02)\n"
     ]
    }
   ],
   "source": [
    "def predict_sentiment(text):\n",
    "    sequence = tokenizer.texts_to_sequences([text])\n",
    "    padded = pad_sequences(sequence, maxlen=max_length, padding='post')\n",
    "    prediction = model.predict(padded)[0][0]\n",
    "    print(\" Review:\", text)\n",
    "    print(\"Sentiment:\", \"Positive\" if prediction > 0.5 else \"Negative\", f\"({prediction:.2f})\")\n",
    "\n",
    "# Example\n",
    "predict_sentiment(\"This movie was absolutely fantastic and emotional!\")\n",
    "predict_sentiment(\"Worst movie ever. It was so boring and predictable.\")\n"
   ]
  },
  {
   "cell_type": "code",
   "execution_count": 12,
   "metadata": {
    "colab": {
     "base_uri": "https://localhost:8080/"
    },
    "executionInfo": {
     "elapsed": 134,
     "status": "ok",
     "timestamp": 1749625859730,
     "user": {
      "displayName": "Seona Ann Tom",
      "userId": "03566573536686444703"
     },
     "user_tz": -330
    },
    "id": "C_MOtS7Qh2z3",
    "outputId": "026b56fa-dfff-4f9d-81f3-e8d0cb69b349"
   },
   "outputs": [
    {
     "name": "stderr",
     "output_type": "stream",
     "text": [
      "WARNING:absl:You are saving your model as an HDF5 file via `model.save()` or `keras.saving.save_model(model)`. This file format is considered legacy. We recommend using instead the native Keras format, e.g. `model.save('my_model.keras')` or `keras.saving.save_model(model, 'my_model.keras')`. \n"
     ]
    }
   ],
   "source": [
    "import pickle\n",
    "with open(\"tokenizer.pkl\", \"wb\") as f:\n",
    "    pickle.dump(tokenizer, f)\n",
    "\n",
    "# Save model again to be safe\n",
    "model.save(\"sentiment_model_imdb.h5\")\n"
   ]
  },
  {
   "cell_type": "code",
   "execution_count": 13,
   "metadata": {
    "colab": {
     "base_uri": "https://localhost:8080/",
     "height": 17
    },
    "executionInfo": {
     "elapsed": 63,
     "status": "ok",
     "timestamp": 1749625915754,
     "user": {
      "displayName": "Seona Ann Tom",
      "userId": "03566573536686444703"
     },
     "user_tz": -330
    },
    "id": "G1kwAi0AbIFJ",
    "outputId": "5049361e-b4f7-42f3-e508-f901c5a15f9f"
   },
   "outputs": [
    {
     "data": {
      "application/javascript": [
       "\n",
       "    async function download(id, filename, size) {\n",
       "      if (!google.colab.kernel.accessAllowed) {\n",
       "        return;\n",
       "      }\n",
       "      const div = document.createElement('div');\n",
       "      const label = document.createElement('label');\n",
       "      label.textContent = `Downloading \"${filename}\": `;\n",
       "      div.appendChild(label);\n",
       "      const progress = document.createElement('progress');\n",
       "      progress.max = size;\n",
       "      div.appendChild(progress);\n",
       "      document.body.appendChild(div);\n",
       "\n",
       "      const buffers = [];\n",
       "      let downloaded = 0;\n",
       "\n",
       "      const channel = await google.colab.kernel.comms.open(id);\n",
       "      // Send a message to notify the kernel that we're ready.\n",
       "      channel.send({})\n",
       "\n",
       "      for await (const message of channel.messages) {\n",
       "        // Send a message to notify the kernel that we're ready.\n",
       "        channel.send({})\n",
       "        if (message.buffers) {\n",
       "          for (const buffer of message.buffers) {\n",
       "            buffers.push(buffer);\n",
       "            downloaded += buffer.byteLength;\n",
       "            progress.value = downloaded;\n",
       "          }\n",
       "        }\n",
       "      }\n",
       "      const blob = new Blob(buffers, {type: 'application/binary'});\n",
       "      const a = document.createElement('a');\n",
       "      a.href = window.URL.createObjectURL(blob);\n",
       "      a.download = filename;\n",
       "      div.appendChild(a);\n",
       "      a.click();\n",
       "      div.remove();\n",
       "    }\n",
       "  "
      ],
      "text/plain": [
       "<IPython.core.display.Javascript object>"
      ]
     },
     "metadata": {},
     "output_type": "display_data"
    },
    {
     "data": {
      "application/javascript": [
       "download(\"download_54f16cb4-5140-474c-8f47-4df3ffd82b3f\", \"sentiment_model_imdb.h5\", 1950856)"
      ],
      "text/plain": [
       "<IPython.core.display.Javascript object>"
      ]
     },
     "metadata": {},
     "output_type": "display_data"
    },
    {
     "data": {
      "application/javascript": [
       "\n",
       "    async function download(id, filename, size) {\n",
       "      if (!google.colab.kernel.accessAllowed) {\n",
       "        return;\n",
       "      }\n",
       "      const div = document.createElement('div');\n",
       "      const label = document.createElement('label');\n",
       "      label.textContent = `Downloading \"${filename}\": `;\n",
       "      div.appendChild(label);\n",
       "      const progress = document.createElement('progress');\n",
       "      progress.max = size;\n",
       "      div.appendChild(progress);\n",
       "      document.body.appendChild(div);\n",
       "\n",
       "      const buffers = [];\n",
       "      let downloaded = 0;\n",
       "\n",
       "      const channel = await google.colab.kernel.comms.open(id);\n",
       "      // Send a message to notify the kernel that we're ready.\n",
       "      channel.send({})\n",
       "\n",
       "      for await (const message of channel.messages) {\n",
       "        // Send a message to notify the kernel that we're ready.\n",
       "        channel.send({})\n",
       "        if (message.buffers) {\n",
       "          for (const buffer of message.buffers) {\n",
       "            buffers.push(buffer);\n",
       "            downloaded += buffer.byteLength;\n",
       "            progress.value = downloaded;\n",
       "          }\n",
       "        }\n",
       "      }\n",
       "      const blob = new Blob(buffers, {type: 'application/binary'});\n",
       "      const a = document.createElement('a');\n",
       "      a.href = window.URL.createObjectURL(blob);\n",
       "      a.download = filename;\n",
       "      div.appendChild(a);\n",
       "      a.click();\n",
       "      div.remove();\n",
       "    }\n",
       "  "
      ],
      "text/plain": [
       "<IPython.core.display.Javascript object>"
      ]
     },
     "metadata": {},
     "output_type": "display_data"
    },
    {
     "data": {
      "application/javascript": [
       "download(\"download_4e914d16-abb5-4f87-9f34-84c389104b2b\", \"tokenizer.pkl\", 3736109)"
      ],
      "text/plain": [
       "<IPython.core.display.Javascript object>"
      ]
     },
     "metadata": {},
     "output_type": "display_data"
    }
   ],
   "source": [
    "from google.colab import files\n",
    "\n",
    "files.download(\"sentiment_model_imdb.h5\")\n",
    "files.download(\"tokenizer.pkl\")\n"
   ]
  }
 ],
 "metadata": {
  "colab": {
   "authorship_tag": "ABX9TyO7KMrPxdtSFpiPAmznq7c+",
   "provenance": []
  },
  "kernelspec": {
   "display_name": "Python 3",
   "name": "python3"
  },
  "language_info": {
   "name": "python"
  }
 },
 "nbformat": 4,
 "nbformat_minor": 0
}
